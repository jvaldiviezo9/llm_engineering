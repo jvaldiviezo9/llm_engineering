{
 "cells": [
  {
   "cell_type": "markdown",
   "id": "d15d8294-3328-4e07-ad16-8a03e9bbfdb9",
   "metadata": {},
   "source": [
    "# Instant Gratification\n",
    "\n",
    "## Your first Frontier LLM Project!\n",
    "\n",
    "Let's build a useful LLM solution - in a matter of minutes.\n",
    "\n",
    "By the end of this course, you will have built an autonomous Agentic AI solution with 7 agents that collaborate to solve a business problem. All in good time! We will start with something smaller...\n",
    "\n",
    "Our goal is to code a new kind of Web Browser. Give it a URL, and it will respond with a summary. The Reader's Digest of the internet!!\n",
    "\n",
    "Before starting, you should have completed the setup for [PC](../SETUP-PC.md) or [Mac](../SETUP-mac.md) and you hopefully launched this jupyter lab from within the project root directory, with your environment activated.\n",
    "\n",
    "## If you're new to Jupyter Lab\n",
    "\n",
    "Welcome to the wonderful world of Data Science experimentation! Once you've used Jupyter Lab, you'll wonder how you ever lived without it. Simply click in each \"cell\" with code in it, such as the cell immediately below this text, and hit Shift+Return to execute that cell. As you wish, you can add a cell with the + button in the toolbar, and print values of variables, or try out variations.  \n",
    "\n",
    "I've written a notebook called [Guide to Jupyter](Guide%20to%20Jupyter.ipynb) to help you get more familiar with Jupyter Labs, including adding Markdown comments, using `!` to run shell commands, and `tqdm` to show progress.\n",
    "\n",
    "## If you'd prefer to work in IDEs\n",
    "\n",
    "If you're more comfortable in IDEs like VSCode or Pycharm, they both work great with these lab notebooks too.  \n",
    "If you'd prefer to work in VSCode, [here](https://chatgpt.com/share/676f2e19-c228-8012-9911-6ca42f8ed766) are instructions from an AI friend on how to configure it for the course.\n",
    "\n",
    "## If you'd like to brush up your Python\n",
    "\n",
    "I've added a notebook called [Intermediate Python](Intermediate%20Python.ipynb) to get you up to speed. But you should give it a miss if you already have a good idea what this code does:    \n",
    "`yield from {book.get(\"author\") for book in books if book.get(\"author\")}`\n",
    "\n",
    "## I am here to help\n",
    "\n",
    "If you have any problems at all, please do reach out.  \n",
    "I'm available through the platform, or at ed@edwarddonner.com, or at https://www.linkedin.com/in/eddonner/ if you'd like to connect (and I love connecting!)\n",
    "\n",
    "## More troubleshooting\n",
    "\n",
    "Please see the [troubleshooting](troubleshooting.ipynb) notebook in this folder to diagnose and fix common problems. At the very end of it is a diagnostics script with some useful debug info.\n",
    "\n",
    "## If this is old hat!\n",
    "\n",
    "If you're already comfortable with today's material, please hang in there; you can move swiftly through the first few labs - we will get much more in depth as the weeks progress.\n",
    "\n",
    "<table style=\"margin: 0; text-align: left;\">\n",
    "    <tr>\n",
    "        <td style=\"width: 150px; height: 150px; vertical-align: middle;\">\n",
    "            <img src=\"../important.jpg\" width=\"150\" height=\"150\" style=\"display: block;\" />\n",
    "        </td>\n",
    "        <td>\n",
    "            <h2 style=\"color:#900;\">Please read - important note</h2>\n",
    "            <span style=\"color:#900;\">The way I collaborate with you may be different to other courses you've taken. I prefer not to type code while you watch. Rather, I execute Jupyter Labs, like this, and give you an intuition for what's going on. My suggestion is that you do this with me, either at the same time, or (perhaps better) right afterwards. Add print statements to understand what's going on, and then come up with your own variations. If you have a Github account, use this to showcase your variations. Not only is this essential practice, but it demonstrates your skills to others, including perhaps future clients or employers...</span>\n",
    "        </td>\n",
    "    </tr>\n",
    "</table>\n",
    "<table style=\"margin: 0; text-align: left;\">\n",
    "    <tr>\n",
    "        <td style=\"width: 150px; height: 150px; vertical-align: middle;\">\n",
    "            <img src=\"../business.jpg\" width=\"150\" height=\"150\" style=\"display: block;\" />\n",
    "        </td>\n",
    "        <td>\n",
    "            <h2 style=\"color:#181;\">Business value of these exercises</h2>\n",
    "            <span style=\"color:#181;\">A final thought. While I've designed these notebooks to be educational, I've also tried to make them enjoyable. We'll do fun things like have LLMs tell jokes and argue with each other. But fundamentally, my goal is to teach skills you can apply in business. I'll explain business implications as we go, and it's worth keeping this in mind: as you build experience with models and techniques, think of ways you could put this into action at work today. Please do contact me if you'd like to discuss more or if you have ideas to bounce off me.</span>\n",
    "        </td>\n",
    "    </tr>\n",
    "</table>"
   ]
  },
  {
   "cell_type": "code",
   "execution_count": 1,
   "id": "4e2a9393-7767-488e-a8bf-27c12dca35bd",
   "metadata": {},
   "outputs": [],
   "source": [
    "# imports\n",
    "\n",
    "import os\n",
    "import requests\n",
    "from dotenv import load_dotenv\n",
    "from bs4 import BeautifulSoup\n",
    "from IPython.display import Markdown, display\n",
    "from openai import OpenAI\n",
    "\n",
    "# If you get an error running this cell, then please head over to the troubleshooting notebook!"
   ]
  },
  {
   "cell_type": "markdown",
   "id": "6900b2a8-6384-4316-8aaa-5e519fca4254",
   "metadata": {},
   "source": [
    "# Connecting to OpenAI\n",
    "\n",
    "The next cell is where we load in the environment variables in your `.env` file and connect to OpenAI.\n",
    "\n",
    "## Troubleshooting if you have problems:\n",
    "\n",
    "Head over to the [troubleshooting](troubleshooting.ipynb) notebook in this folder for step by step code to identify the root cause and fix it!\n",
    "\n",
    "If you make a change, try restarting the \"Kernel\" (the python process sitting behind this notebook) by Kernel menu >> Restart Kernel and Clear Outputs of All Cells. Then try this notebook again, starting at the top.\n",
    "\n",
    "Or, contact me! Message me or email ed@edwarddonner.com and we will get this to work.\n",
    "\n",
    "Any concerns about API costs? See my notes in the README - costs should be minimal, and you can control it at every point. You can also use Ollama as a free alternative, which we discuss during Day 2."
   ]
  },
  {
   "cell_type": "code",
   "execution_count": 2,
   "id": "a29b9b92",
   "metadata": {},
   "outputs": [
    {
     "name": "stdout",
     "output_type": "stream",
     "text": [
      "sk-q0M/eqRGQBixrWXoHoxZmW7/H/jBKpgbwAgrICF+i2RQVVZHisIHOcPG7nng99TdfjjboRnX32Zlb6WVpTvVfUGWQceYMzk8Su4ZvZYSGQE=\n"
     ]
    }
   ],
   "source": [
    "from dotenv import load_dotenv\n",
    "import os\n",
    "\n",
    "current_dir = os.getcwd()\n",
    "\n",
    "# Specify the path to the .env file in the parent folder\n",
    "dotenv_path = os.path.join(current_dir, '..', '.env')\n",
    "\n",
    "# Load the .env file\n",
    "load_dotenv(dotenv_path)\n",
    "\n",
    "# Access environment variables\n",
    "my_variable = os.getenv('OPENAI_API_KEY')\n",
    "print(my_variable)"
   ]
  },
  {
   "cell_type": "code",
   "execution_count": 3,
   "id": "7b87cadb-d513-4303-baee-a37b6f938e4d",
   "metadata": {},
   "outputs": [
    {
     "name": "stdout",
     "output_type": "stream",
     "text": [
      "An API key was found, but it doesn't start sk-proj-; please check you're using the right key - see troubleshooting notebook\n"
     ]
    }
   ],
   "source": [
    "# Load environment variables in a file called .env\n",
    "\n",
    "load_dotenv(override=True)\n",
    "api_key = os.getenv('OPENAI_API_KEY')\n",
    "\n",
    "# Check the key\n",
    "\n",
    "if not api_key:\n",
    "    print(\"No API key was found - please head over to the troubleshooting notebook in this folder to identify & fix!\")\n",
    "elif not api_key.startswith(\"sk-proj-\"):\n",
    "    print(\"An API key was found, but it doesn't start sk-proj-; please check you're using the right key - see troubleshooting notebook\")\n",
    "elif api_key.strip() != api_key:\n",
    "    print(\"An API key was found, but it looks like it might have space or tab characters at the start or end - please remove them - see troubleshooting notebook\")\n",
    "else:\n",
    "    print(\"API key found and looks good so far!\")\n"
   ]
  },
  {
   "cell_type": "code",
   "execution_count": 4,
   "id": "019974d9-f3ad-4a8a-b5f9-0a3719aea2d3",
   "metadata": {},
   "outputs": [],
   "source": [
    "openai = OpenAI()\n",
    "\n",
    "# If this doesn't work, try Kernel menu >> Restart Kernel and Clear Outputs Of All Cells, then run the cells from the top of this notebook down.\n",
    "# If it STILL doesn't work (horrors!) then please see the Troubleshooting notebook in this folder for full instructions"
   ]
  },
  {
   "cell_type": "code",
   "execution_count": 5,
   "id": "59265247",
   "metadata": {},
   "outputs": [
    {
     "name": "stdout",
     "output_type": "stream",
     "text": [
      "Assistant: Hello! I can assist you with a wide range of tasks, including answering questions, providing explanations, helping with research, offering advice, generating creative content, and much more. What do you need help with today? 😊\n"
     ]
    }
   ],
   "source": [
    "client = OpenAI(\n",
    "    api_key=api_key,\n",
    "    base_url=\"https://router.requesty.ai/v1\"\n",
    ")\n",
    "\n",
    "try:\n",
    "    # Make your API call\n",
    "    response = client.chat.completions.create(\n",
    "        model=\"deepseek/deepseek-chat\",\n",
    "        messages=[\n",
    "            {\"role\": \"system\", \"content\": \"You are a helpful assistant.\"},\n",
    "            {\"role\": \"user\", \"content\": \"Hello! How can you help me today?\"}\n",
    "        ]\n",
    "    )\n",
    "    \n",
    "    # Print the assistant's response\n",
    "    print(\"Assistant:\", response.choices[0].message.content)\n",
    "\n",
    "except openai.APIError as e:\n",
    "    print(f\"OpenAI API error: {e}\")\n",
    "except Exception as e:\n",
    "    print(f\"Unexpected error: {e}\")"
   ]
  },
  {
   "cell_type": "markdown",
   "id": "442fc84b-0815-4f40-99ab-d9a5da6bda91",
   "metadata": {},
   "source": [
    "# Let's make a quick call to a Frontier model to get started, as a preview!"
   ]
  },
  {
   "cell_type": "code",
   "execution_count": 6,
   "id": "a58394bf-1e45-46af-9bfd-01e24da6f49a",
   "metadata": {},
   "outputs": [
    {
     "name": "stdout",
     "output_type": "stream",
     "text": [
      "Hello! 👋 Welcome to the world of chatting with me—I'm so glad you're here! How can I help you today? Whether it's a question, a fun fact, or just a chat, I'm all ears (or, well, algorithms). 😊\n"
     ]
    }
   ],
   "source": [
    "# To give you a preview -- calling OpenAI with these messages is this easy. Any problems, head over to the Troubleshooting notebook.\n",
    "\n",
    "message = \"Hello, GPT! This is my first ever message to you! Hi!\"\n",
    "response = client.chat.completions.create(model=\"deepseek/deepseek-chat\", messages=[{\"role\":\"user\", \"content\":message}])\n",
    "print(response.choices[0].message.content)"
   ]
  },
  {
   "cell_type": "markdown",
   "id": "2aa190e5-cb31-456a-96cc-db109919cd78",
   "metadata": {},
   "source": [
    "## OK onwards with our first project"
   ]
  },
  {
   "cell_type": "code",
   "execution_count": 7,
   "id": "c5e793b2-6775-426a-a139-4848291d0463",
   "metadata": {},
   "outputs": [],
   "source": [
    "# A class to represent a Webpage\n",
    "# If you're not familiar with Classes, check out the \"Intermediate Python\" notebook\n",
    "\n",
    "# Some websites need you to use proper headers when fetching them:\n",
    "headers = {\n",
    " \"User-Agent\": \"Mozilla/5.0 (Windows NT 10.0; Win64; x64) AppleWebKit/537.36 (KHTML, like Gecko) Chrome/117.0.0.0 Safari/537.36\"\n",
    "}\n",
    "\n",
    "class Website:\n",
    "\n",
    "    def __init__(self, url):\n",
    "        \"\"\"\n",
    "        Create this Website object from the given url using the BeautifulSoup library\n",
    "        \"\"\"\n",
    "        self.url = url\n",
    "        response = requests.get(url, headers=headers)\n",
    "        soup = BeautifulSoup(response.content, 'html.parser')\n",
    "        self.title = soup.title.string if soup.title else \"No title found\"\n",
    "        for irrelevant in soup.body([\"script\", \"style\", \"img\", \"input\"]):\n",
    "            irrelevant.decompose()\n",
    "        self.text = soup.body.get_text(separator=\"\\n\", strip=True)"
   ]
  },
  {
   "cell_type": "code",
   "execution_count": 8,
   "id": "2ef960cf-6dc2-4cda-afb3-b38be12f4c97",
   "metadata": {},
   "outputs": [
    {
     "name": "stdout",
     "output_type": "stream",
     "text": [
      "Home - Edward Donner\n",
      "Home\n",
      "Outsmart\n",
      "An arena that pits LLMs against each other in a battle of diplomacy and deviousness\n",
      "About\n",
      "Posts\n",
      "Well, hi there.\n",
      "I’m Ed. I like writing code and experimenting with LLMs, and hopefully you’re here because you do too. I also enjoy DJing (but I’m badly out of practice), amateur electronic music production (\n",
      "very\n",
      "amateur) and losing myself in\n",
      "Hacker News\n",
      ", nodding my head sagely to things I only half understand.\n",
      "I’m the co-founder and CTO of\n",
      "Nebula.io\n",
      ". We’re applying AI to a field where it can make a massive, positive impact: helping people discover their potential and pursue their reason for being. Recruiters use our product today to source, understand, engage and manage talent. I’m previously the founder and CEO of AI startup untapt,\n",
      "acquired in 2021\n",
      ".\n",
      "We work with groundbreaking, proprietary LLMs verticalized for talent, we’ve\n",
      "patented\n",
      "our matching model, and our award-winning platform has happy customers and tons of press coverage.\n",
      "Connect\n",
      "with me for more!\n",
      "December 21, 2024\n",
      "Welcome, SuperDataScientists!\n",
      "November 13, 2024\n",
      "Mastering AI and LLM Engineering – Resources\n",
      "October 16, 2024\n",
      "From Software Engineer to AI Data Scientist – resources\n",
      "August 6, 2024\n",
      "Outsmart LLM Arena – a battle of diplomacy and deviousness\n",
      "Navigation\n",
      "Home\n",
      "Outsmart\n",
      "An arena that pits LLMs against each other in a battle of diplomacy and deviousness\n",
      "About\n",
      "Posts\n",
      "Get in touch\n",
      "ed [at] edwarddonner [dot] com\n",
      "www.edwarddonner.com\n",
      "Follow me\n",
      "LinkedIn\n",
      "Twitter\n",
      "Facebook\n",
      "Subscribe to newsletter\n",
      "Type your email…\n",
      "Subscribe\n"
     ]
    }
   ],
   "source": [
    "# Let's try one out. Change the website and add print statements to follow along.\n",
    "\n",
    "ed = Website(\"https://edwarddonner.com\")\n",
    "print(ed.title)\n",
    "print(ed.text)"
   ]
  },
  {
   "cell_type": "markdown",
   "id": "6a478a0c-2c53-48ff-869c-4d08199931e1",
   "metadata": {},
   "source": [
    "## Types of prompts\n",
    "\n",
    "You may know this already - but if not, you will get very familiar with it!\n",
    "\n",
    "Models like GPT4o have been trained to receive instructions in a particular way.\n",
    "\n",
    "They expect to receive:\n",
    "\n",
    "**A system prompt** that tells them what task they are performing and what tone they should use\n",
    "\n",
    "**A user prompt** -- the conversation starter that they should reply to"
   ]
  },
  {
   "cell_type": "code",
   "execution_count": 9,
   "id": "abdb8417-c5dc-44bc-9bee-2e059d162699",
   "metadata": {},
   "outputs": [],
   "source": [
    "# Define our system prompt - you can experiment with this later, changing the last sentence to 'Respond in markdown in Spanish.\"\n",
    "\n",
    "system_prompt = \"You are an assistant that analyzes the contents of a website \\\n",
    "and provides a short summary, ignoring text that might be navigation related. \\\n",
    "Respond in markdown.\""
   ]
  },
  {
   "cell_type": "code",
   "execution_count": 10,
   "id": "f0275b1b-7cfe-4f9d-abfa-7650d378da0c",
   "metadata": {},
   "outputs": [],
   "source": [
    "# A function that writes a User Prompt that asks for summaries of websites:\n",
    "\n",
    "def user_prompt_for(website):\n",
    "    user_prompt = f\"You are looking at a website titled {website.title}\"\n",
    "    user_prompt += \"\\nThe contents of this website is as follows; \\\n",
    "please provide a short summary of this website in markdown. \\\n",
    "If it includes news or announcements, then summarize these too.\\n\\n\"\n",
    "    user_prompt += website.text\n",
    "    return user_prompt"
   ]
  },
  {
   "cell_type": "code",
   "execution_count": 11,
   "id": "26448ec4-5c00-4204-baec-7df91d11ff2e",
   "metadata": {},
   "outputs": [
    {
     "name": "stdout",
     "output_type": "stream",
     "text": [
      "You are looking at a website titled Home - Edward Donner\n",
      "The contents of this website is as follows; please provide a short summary of this website in markdown. If it includes news or announcements, then summarize these too.\n",
      "\n",
      "Home\n",
      "Outsmart\n",
      "An arena that pits LLMs against each other in a battle of diplomacy and deviousness\n",
      "About\n",
      "Posts\n",
      "Well, hi there.\n",
      "I’m Ed. I like writing code and experimenting with LLMs, and hopefully you’re here because you do too. I also enjoy DJing (but I’m badly out of practice), amateur electronic music production (\n",
      "very\n",
      "amateur) and losing myself in\n",
      "Hacker News\n",
      ", nodding my head sagely to things I only half understand.\n",
      "I’m the co-founder and CTO of\n",
      "Nebula.io\n",
      ". We’re applying AI to a field where it can make a massive, positive impact: helping people discover their potential and pursue their reason for being. Recruiters use our product today to source, understand, engage and manage talent. I’m previously the founder and CEO of AI startup untapt,\n",
      "acquired in 2021\n",
      ".\n",
      "We work with groundbreaking, proprietary LLMs verticalized for talent, we’ve\n",
      "patented\n",
      "our matching model, and our award-winning platform has happy customers and tons of press coverage.\n",
      "Connect\n",
      "with me for more!\n",
      "December 21, 2024\n",
      "Welcome, SuperDataScientists!\n",
      "November 13, 2024\n",
      "Mastering AI and LLM Engineering – Resources\n",
      "October 16, 2024\n",
      "From Software Engineer to AI Data Scientist – resources\n",
      "August 6, 2024\n",
      "Outsmart LLM Arena – a battle of diplomacy and deviousness\n",
      "Navigation\n",
      "Home\n",
      "Outsmart\n",
      "An arena that pits LLMs against each other in a battle of diplomacy and deviousness\n",
      "About\n",
      "Posts\n",
      "Get in touch\n",
      "ed [at] edwarddonner [dot] com\n",
      "www.edwarddonner.com\n",
      "Follow me\n",
      "LinkedIn\n",
      "Twitter\n",
      "Facebook\n",
      "Subscribe to newsletter\n",
      "Type your email…\n",
      "Subscribe\n"
     ]
    }
   ],
   "source": [
    "print(user_prompt_for(ed))"
   ]
  },
  {
   "cell_type": "markdown",
   "id": "ea211b5f-28e1-4a86-8e52-c0b7677cadcc",
   "metadata": {},
   "source": [
    "## Messages\n",
    "\n",
    "The API from OpenAI expects to receive messages in a particular structure.\n",
    "Many of the other APIs share this structure:\n",
    "\n",
    "```\n",
    "[\n",
    "    {\"role\": \"system\", \"content\": \"system message goes here\"},\n",
    "    {\"role\": \"user\", \"content\": \"user message goes here\"}\n",
    "]\n",
    "\n",
    "To give you a preview, the next 2 cells make a rather simple call - we won't stretch the might GPT (yet!)"
   ]
  },
  {
   "cell_type": "code",
   "execution_count": 12,
   "id": "f25dcd35-0cd0-4235-9f64-ac37ed9eaaa5",
   "metadata": {},
   "outputs": [],
   "source": [
    "messages = [\n",
    "    {\"role\": \"system\", \"content\": \"You are a snarky assistant\"},\n",
    "    {\"role\": \"user\", \"content\": \"What is 2 + 2?\"}\n",
    "]"
   ]
  },
  {
   "cell_type": "code",
   "execution_count": 13,
   "id": "21ed95c5-7001-47de-a36d-1d6673b403ce",
   "metadata": {},
   "outputs": [
    {
     "name": "stdout",
     "output_type": "stream",
     "text": [
      "Oh, come on, really? It's *4*. But hey, if you're feeling adventurous, maybe it's 22 in some alternate universe where math is just a suggestion. 😏\n"
     ]
    }
   ],
   "source": [
    "# To give you a preview -- calling OpenAI with system and user messages:\n",
    "\n",
    "response = client.chat.completions.create(model=\"deepseek/deepseek-chat\", messages=messages)\n",
    "print(response.choices[0].message.content)\n",
    "\n",
    "\n"
   ]
  },
  {
   "cell_type": "code",
   "execution_count": null,
   "id": "f77fb515",
   "metadata": {},
   "outputs": [
    {
     "name": "stdout",
     "output_type": "stream",
     "text": [
      "this is a test \n"
     ]
    }
   ],
   "source": [
    "print(\"this is a test message \")\n",
    "\n",
    "\n"
   ]
  },
  {
   "cell_type": "markdown",
   "id": "d06e8d78-ce4c-4b05-aa8e-17050c82bb47",
   "metadata": {},
   "source": [
    "## And now let's build useful messages for GPT-4o-mini, using a function"
   ]
  },
  {
   "cell_type": "code",
   "execution_count": 14,
   "id": "0134dfa4-8299-48b5-b444-f2a8c3403c88",
   "metadata": {},
   "outputs": [],
   "source": [
    "# See how this function creates exactly the format above\n",
    "\n",
    "def messages_for(website):\n",
    "    return [\n",
    "        {\"role\": \"system\", \"content\": system_prompt},\n",
    "        {\"role\": \"user\", \"content\": user_prompt_for(website)}\n",
    "    ]"
   ]
  },
  {
   "cell_type": "code",
   "execution_count": 15,
   "id": "36478464-39ee-485c-9f3f-6a4e458dbc9c",
   "metadata": {},
   "outputs": [
    {
     "data": {
      "text/plain": [
       "[{'role': 'system',\n",
       "  'content': 'You are an assistant that analyzes the contents of a website and provides a short summary, ignoring text that might be navigation related. Respond in markdown.'},\n",
       " {'role': 'user',\n",
       "  'content': 'You are looking at a website titled Home - Edward Donner\\nThe contents of this website is as follows; please provide a short summary of this website in markdown. If it includes news or announcements, then summarize these too.\\n\\nHome\\nOutsmart\\nAn arena that pits LLMs against each other in a battle of diplomacy and deviousness\\nAbout\\nPosts\\nWell, hi there.\\nI’m Ed. I like writing code and experimenting with LLMs, and hopefully you’re here because you do too. I also enjoy DJing (but I’m badly out of practice), amateur electronic music production (\\nvery\\namateur) and losing myself in\\nHacker News\\n, nodding my head sagely to things I only half understand.\\nI’m the co-founder and CTO of\\nNebula.io\\n. We’re applying AI to a field where it can make a massive, positive impact: helping people discover their potential and pursue their reason for being. Recruiters use our product today to source, understand, engage and manage talent. I’m previously the founder and CEO of AI startup untapt,\\nacquired in 2021\\n.\\nWe work with groundbreaking, proprietary LLMs verticalized for talent, we’ve\\npatented\\nour matching model, and our award-winning platform has happy customers and tons of press coverage.\\nConnect\\nwith me for more!\\nDecember 21, 2024\\nWelcome, SuperDataScientists!\\nNovember 13, 2024\\nMastering AI and LLM Engineering – Resources\\nOctober 16, 2024\\nFrom Software Engineer to AI Data Scientist – resources\\nAugust 6, 2024\\nOutsmart LLM Arena – a battle of diplomacy and deviousness\\nNavigation\\nHome\\nOutsmart\\nAn arena that pits LLMs against each other in a battle of diplomacy and deviousness\\nAbout\\nPosts\\nGet in touch\\ned [at] edwarddonner [dot] com\\nwww.edwarddonner.com\\nFollow me\\nLinkedIn\\nTwitter\\nFacebook\\nSubscribe to newsletter\\nType your email…\\nSubscribe'}]"
      ]
     },
     "execution_count": 15,
     "metadata": {},
     "output_type": "execute_result"
    }
   ],
   "source": [
    "# Try this out, and then try for a few more websites\n",
    "\n",
    "messages_for(ed)"
   ]
  },
  {
   "cell_type": "markdown",
   "id": "16f49d46-bf55-4c3e-928f-68fc0bf715b0",
   "metadata": {},
   "source": [
    "## Time to bring it together - the API for OpenAI is very simple!"
   ]
  },
  {
   "cell_type": "code",
   "execution_count": 18,
   "id": "905b9919-aba7-45b5-ae65-81b3d1d78e34",
   "metadata": {},
   "outputs": [],
   "source": [
    "# And now: call the OpenAI API. You will get very familiar with this!\n",
    "\n",
    "def summarize(url):\n",
    "    website = Website(url)\n",
    "    response = client.chat.completions.create(\n",
    "        model = \"deepseek/deepseek-chat\",\n",
    "        messages = messages_for(website)\n",
    "    )\n",
    "    return response.choices[0].message.content"
   ]
  },
  {
   "cell_type": "code",
   "execution_count": 19,
   "id": "05e38d41-dfa4-4b20-9c96-c46ea75d9fb5",
   "metadata": {},
   "outputs": [
    {
     "data": {
      "text/plain": [
       "'```markdown\\n# Summary of Edward Donner\\'s Website\\n\\nEdward Donner\\'s website serves as a personal and professional hub, showcasing his interests, projects, and career achievements. Here are the key highlights:\\n\\n## About Edward Donner\\n- **Interests**: Coding, experimenting with LLMs, DJing, electronic music production, and engaging with tech communities like Hacker News.\\n- **Professional Role**: Co-founder and CTO of **Nebula.io**, an AI-driven platform focused on helping individuals discover their potential and assisting recruiters in talent management.\\n- **Background**: Former founder and CEO of AI startup **untapt**, which was acquired in 2021. He has expertise in proprietary LLMs and patented matching models.\\n\\n## Projects\\n- **Outsmart**: An arena where LLMs compete in diplomacy and strategy, reflecting his interest in AI experimentation.\\n\\n## Announcements\\n- **December 21, 2024**: Welcoming \"SuperDataScientists\" to the platform.\\n- **November 13, 2024**: Sharing resources for mastering AI and LLM engineering.\\n- **October 16, 2024**: Providing resources for transitioning from software engineering to AI data science.\\n- **August 6, 2024**: Launching the **Outsmart LLM Arena**, a competitive platform for LLMs.\\n\\n## Connect\\n- Edward invites visitors to connect with him via email or social media (LinkedIn, Twitter, Facebook) and subscribe to his newsletter.\\n\\nThe website reflects Edward\\'s passion for AI, innovation, and community engagement.\\n```'"
      ]
     },
     "execution_count": 19,
     "metadata": {},
     "output_type": "execute_result"
    }
   ],
   "source": [
    "summarize(\"https://edwarddonner.com\")"
   ]
  },
  {
   "cell_type": "code",
   "execution_count": 20,
   "id": "3d926d59-450e-4609-92ba-2d6f244f1342",
   "metadata": {},
   "outputs": [],
   "source": [
    "# A function to display this nicely in the Jupyter output, using markdown\n",
    "\n",
    "def display_summary(url):\n",
    "    summary = summarize(url)\n",
    "    display(Markdown(summary))"
   ]
  },
  {
   "cell_type": "code",
   "execution_count": 21,
   "id": "3018853a-445f-41ff-9560-d925d1774b2f",
   "metadata": {},
   "outputs": [
    {
     "data": {
      "text/markdown": [
       "```markdown\n",
       "# Summary of Edward Donner's Website\n",
       "\n",
       "## About Edward Donner\n",
       "Edward Donner is a co-founder and CTO of **Nebula.io**, a company applying AI to help people discover their potential and pursue their passions. He is also the former founder and CEO of **untapt**, an AI startup acquired in 2021. Edward enjoys coding, experimenting with LLMs, DJing, and electronic music production. His work focuses on proprietary LLMs verticalized for talent, with a patented matching model and a successful platform.\n",
       "\n",
       "## Key Announcements\n",
       "- **December 21, 2024**: Welcome message to **SuperDataScientists**.\n",
       "- **November 13, 2024**: Resources for **Mastering AI and LLM Engineering**.\n",
       "- **October 16, 2024**: Guide on transitioning **From Software Engineer to AI Data Scientist**.\n",
       "- **August 6, 2024**: Launch of **Outsmart LLM Arena**, a platform where LLMs compete in diplomacy and strategy.\n",
       "\n",
       "## Projects\n",
       "- **Outsmart**: An arena where LLMs compete in a battle of diplomacy and deviousness.\n",
       "\n",
       "## Contact\n",
       "- Email: ed [at] edwarddonner [dot] com\n",
       "- Social Media: LinkedIn, Twitter, Facebook\n",
       "- Newsletter subscription available on the website.\n",
       "```"
      ],
      "text/plain": [
       "<IPython.core.display.Markdown object>"
      ]
     },
     "metadata": {},
     "output_type": "display_data"
    }
   ],
   "source": [
    "display_summary(\"https://edwarddonner.com\")"
   ]
  },
  {
   "cell_type": "markdown",
   "id": "b3bcf6f4-adce-45e9-97ad-d9a5d7a3a624",
   "metadata": {},
   "source": [
    "# Let's try more websites\n",
    "\n",
    "Note that this will only work on websites that can be scraped using this simplistic approach.\n",
    "\n",
    "Websites that are rendered with Javascript, like React apps, won't show up. See the community-contributions folder for a Selenium implementation that gets around this. You'll need to read up on installing Selenium (ask ChatGPT!)\n",
    "\n",
    "Also Websites protected with CloudFront (and similar) may give 403 errors - many thanks Andy J for pointing this out.\n",
    "\n",
    "But many websites will work just fine!"
   ]
  },
  {
   "cell_type": "code",
   "execution_count": 24,
   "id": "45d83403-a24c-44b5-84ac-961449b4008f",
   "metadata": {},
   "outputs": [
    {
     "data": {
      "text/markdown": [
       "```markdown\n",
       "# Summary of CNN Website\n",
       "\n",
       "The CNN website provides a comprehensive platform for breaking news, latest updates, and videos across various categories. Below is a summary of the key sections and recent news highlights:\n",
       "\n",
       "## Key Sections:\n",
       "- **US**: Crime, Justice, and Politics.\n",
       "- **World**: Coverage of Africa, Americas, Asia, Europe, and the Middle East.\n",
       "- **Politics**: SCOTUS, Congress, and 2024 Elections.\n",
       "- **Business**: Tech, Media, and Markets.\n",
       "- **Health**: Fitness, Food, Sleep, and Relationships.\n",
       "- **Entertainment**: Movies, Television, and Celebrity news.\n",
       "- **Style**: Arts, Design, Fashion, and Beauty.\n",
       "- **Travel**: Destinations, Food & Drink, and Stay.\n",
       "- **Sports**: Pro Football, Basketball, Soccer, and Olympics.\n",
       "- **Science**: Space, Life, and Climate.\n",
       "- **Weather**: Updates and forecasts.\n",
       "- **Ukraine-Russia War**: Ongoing coverage.\n",
       "- **Israel-Hamas War**: Latest developments.\n",
       "\n",
       "## Recent News Highlights:\n",
       "- **Politics**: Treasury pick Scott Bessent's confirmation hearing and Trump's administration ethics questions.\n",
       "- **Israel-Hamas War**: Israel delays key vote on truce; Hamas commits to the deal.\n",
       "- **Health**: Young women are almost twice as likely to be diagnosed with cancer as young men.\n",
       "- **Science**: Blue Origin launches New Glenn rocket, a competitor to SpaceX.\n",
       "- **Sports**: 2024 NFL divisional round updates and Super Bowl streaming details.\n",
       "- **Entertainment**: Drake sues UMG Recordings over defamation claims related to Kendrick Lamar’s song.\n",
       "- **Business**: Outgoing FCC chair rejects high-profile TV petitions.\n",
       "- **Travel**: Restaurant charges $120 to add pineapple on pizza.\n",
       "\n",
       "## Additional Features:\n",
       "- **CNN Underscored**: Product reviews and deals.\n",
       "- **Live TV and Podcasts**: CNN Headlines, CNN 5 Things, and various audio podcasts.\n",
       "- **Games**: Crossword, Sudoku, and other puzzles.\n",
       "\n",
       "## Special Reports:\n",
       "- **LA Wildfires**: Coverage of the ongoing wildfires and their impact.\n",
       "- **Climate**: Solutions and weather-related updates.\n",
       "- **Analysis**: Insights into political and social issues, including Trump’s potential second term.\n",
       "\n",
       "## Interactive Elements:\n",
       "- **Ad Feedback**: Users can provide feedback on ads and report technical issues.\n",
       "- **Sign In**: Personalized account features for users to follow topics and access settings.\n",
       "\n",
       "CNN continues to be a leading source for global news, offering a mix of live updates, in-depth analysis, and multimedia content.\n",
       "```"
      ],
      "text/plain": [
       "<IPython.core.display.Markdown object>"
      ]
     },
     "metadata": {},
     "output_type": "display_data"
    }
   ],
   "source": [
    "display_summary(\"https://cnn.com\")"
   ]
  },
  {
   "cell_type": "code",
   "execution_count": 25,
   "id": "75e9fd40-b354-4341-991e-863ef2e59db7",
   "metadata": {},
   "outputs": [
    {
     "data": {
      "text/markdown": [
       "# Summary of Anthropic's Website\n",
       "\n",
       "Anthropic is an AI safety and research company based in San Francisco, focused on developing reliable and beneficial AI systems. Their flagship product, **Claude**, is an AI model designed with safety at its core. The website highlights their latest AI model, **Claude 3.5 Sonnet**, which is now available and described as their most intelligent model to date. Additionally, they offer **Claude 3.5 Haiku**, another advanced AI model.\n",
       "\n",
       "## Key Announcements:\n",
       "1. **Claude 3.5 Sonnet Release** (October 22, 2024): Introduced as their most intelligent AI model, alongside **Claude 3.5 Haiku**.\n",
       "2. **Claude for Enterprise** (September 4, 2024): A product tailored for enterprise use.\n",
       "3. **Core Views on AI Safety** (March 8, 2023): Anthropic shared their perspectives on AI safety, addressing the \"when, why, what, and how\" of ensuring AI systems are safe and beneficial.\n",
       "4. **Constitutional AI: Harmlessness from AI Feedback** (December 15, 2022): Research focused on creating AI systems that are inherently harmless through feedback mechanisms.\n",
       "\n",
       "## Products and Services:\n",
       "- **Claude API**: Enables developers to build AI-powered applications and custom experiences.\n",
       "- **Enterprise Solutions**: Tailored AI solutions for businesses.\n",
       "- **Research**: Anthropic emphasizes alignment and safety in AI development, with ongoing research in areas like Constitutional AI.\n",
       "\n",
       "## Careers:\n",
       "Anthropic is hiring for various roles, seeking individuals with expertise in machine learning, physics, policy, and product development.\n",
       "\n",
       "For more details, visit [Claude.ai](https://claude.ai)."
      ],
      "text/plain": [
       "<IPython.core.display.Markdown object>"
      ]
     },
     "metadata": {},
     "output_type": "display_data"
    }
   ],
   "source": [
    "display_summary(\"https://anthropic.com\")"
   ]
  },
  {
   "cell_type": "markdown",
   "id": "c951be1a-7f1b-448f-af1f-845978e47e2c",
   "metadata": {},
   "source": [
    "<table style=\"margin: 0; text-align: left;\">\n",
    "    <tr>\n",
    "        <td style=\"width: 150px; height: 150px; vertical-align: middle;\">\n",
    "            <img src=\"../business.jpg\" width=\"150\" height=\"150\" style=\"display: block;\" />\n",
    "        </td>\n",
    "        <td>\n",
    "            <h2 style=\"color:#181;\">Business applications</h2>\n",
    "            <span style=\"color:#181;\">In this exercise, you experienced calling the Cloud API of a Frontier Model (a leading model at the frontier of AI) for the first time. We will be using APIs like OpenAI at many stages in the course, in addition to building our own LLMs.\n",
    "\n",
    "More specifically, we've applied this to Summarization - a classic Gen AI use case to make a summary. This can be applied to any business vertical - summarizing the news, summarizing financial performance, summarizing a resume in a cover letter - the applications are limitless. Consider how you could apply Summarization in your business, and try prototyping a solution.</span>\n",
    "        </td>\n",
    "    </tr>\n",
    "</table>\n",
    "\n",
    "<table style=\"margin: 0; text-align: left;\">\n",
    "    <tr>\n",
    "        <td style=\"width: 150px; height: 150px; vertical-align: middle;\">\n",
    "            <img src=\"../important.jpg\" width=\"150\" height=\"150\" style=\"display: block;\" />\n",
    "        </td>\n",
    "        <td>\n",
    "            <h2 style=\"color:#900;\">Before you continue - now try yourself</h2>\n",
    "            <span style=\"color:#900;\">Use the cell below to make your own simple commercial example. Stick with the summarization use case for now. Here's an idea: write something that will take the contents of an email, and will suggest an appropriate short subject line for the email. That's the kind of feature that might be built into a commercial email tool.</span>\n",
    "        </td>\n",
    "    </tr>\n",
    "</table>"
   ]
  },
  {
   "cell_type": "code",
   "execution_count": 32,
   "id": "00743dac-0e70-45b7-879a-d7293a6f68a6",
   "metadata": {},
   "outputs": [
    {
     "name": "stdout",
     "output_type": "stream",
     "text": [
      "This list appears to be a comprehensive collection of ingredients commonly used in cooking, particularly in Italian and Mediterranean cuisines, with a focus on pizza, pasta, and other baked or saucy dishes. Here's a breakdown of the categories and their significance:\n",
      "\n",
      "### **1. Flours**\n",
      "   - **All-purpose flour**: A versatile flour used for a variety of baked goods.\n",
      "   - **Bread flour**: Higher protein content, ideal for bread-making due to its gluten strength.\n",
      "   - **00 flour**: A finely milled Italian flour, perfect for pizza dough and pasta.\n",
      "   - **Whole wheat flour**: Adds a nutty flavor and extra fiber to baked goods.\n",
      "\n",
      "### **2. Yeasts**\n",
      "   - **Active dry yeast**: Requires activation in warm water before use.\n",
      "   - **Instant yeast**: Can be mixed directly into dry ingredients.\n",
      "   - **Fresh yeast**: Also known as cake yeast, used in professional baking.\n",
      "\n",
      "### **3. Liquids and Seasonings**\n",
      "   - **Warm water**: Used to activate yeast and hydrate dough.\n",
      "   - **Salt**: Enhances flavor and controls yeast activity.\n",
      "   - **Sugar**: Feeds yeast and adds sweetness to dough or sauces.\n",
      "   - **Olive oil**: Adds richness and moisture to dough or sauces.\n",
      "\n",
      "### **4. Tomato-Based Ingredients**\n",
      "   - **Canned crushed tomatoes**: A base for sauces, providing texture and flavor.\n",
      "   - **Canned whole peeled tomatoes**: Can be crushed or blended for sauces.\n",
      "   - **Tomato paste**: Concentrated tomato flavor, used to thicken sauces.\n",
      "   - **Fresh tomatoes**: Used for fresh sauces or toppings.\n",
      "\n",
      "### **5. Aromatics and Herbs**\n",
      "   - **Garlic, onion**: Essential for building flavor in sauces and toppings.\n",
      "   - **Oregano, basil, rosemary, thyme**: Classic Italian herbs for seasoning.\n",
      "   - **Red pepper flakes**: Adds heat to dishes.\n",
      "   - **Pesto**: A basil-based sauce for pasta or pizza.\n",
      "\n",
      "### **6. Sauces**\n",
      "   - **White sauce**: A creamy base for dishes like Alfredo.\n",
      "   - **BBQ sauce**: Adds a smoky, tangy flavor.\n",
      "   - **Alfredo sauce**: A rich, creamy cheese sauce.\n",
      "   - **Balsamic glaze**: A sweet and tangy drizzle for finishing dishes.\n",
      "\n",
      "### **7. Cheeses**\n",
      "   - **Mozzarella**: The classic pizza cheese, known for its meltability.\n",
      "   - **Provolone, Parmesan, Fontina, Gorgonzola**: Varieties that add depth and flavor.\n",
      "   - **Ricotta**: A creamy cheese used in fillings or as a topping.\n",
      "   - **Cheddar**: A sharp cheese for added flavor.\n",
      "\n",
      "### **8. Meats**\n",
      "   - **Pepperoni, Italian sausage, chorizo, ham, bacon**: Popular pizza toppings.\n",
      "   - **Ground beef, chicken, meatballs**: Protein options for hearty dishes.\n",
      "\n",
      "### **9. Vegetables**\n",
      "   - **Mushrooms, onions, bell peppers, olives, tomatoes, spinach, artichoke hearts, jalapeños, pineapple, broccoli, zucchini, eggplant**: Common toppings for pizzas, pastas, and salads.\n",
      "\n",
      "### **10. Fresh and Dried Herbs**\n",
      "   - **Fresh basil, dried oregano, fresh oregano, minced garlic, roasted garlic, rosemary, thyme**: Used to enhance flavor in sauces, doughs, and toppings.\n",
      "\n",
      "### **Potential Dishes**\n",
      "This list suggests recipes like:\n",
      "   - **Pizza**: Using dough (flour, yeast, water, salt, sugar, olive oil) with tomato sauce, cheese, and various toppings.\n",
      "   - **Pasta**: With tomato-based sauces, pesto, or Alfredo, paired with meats and vegetables.\n",
      "   - **Bread**: Using bread flour or 00 flour for artisanal loaves or focaccia.\n",
      "   - **Sauces**: Tomato-based, white, or pesto sauces for a variety of dishes.\n",
      "\n",
      "### **Cuisine Focus**\n",
      "The ingredients lean heavily toward Italian and Mediterranean cooking, with a strong emphasis on pizza and pasta dishes. The variety of cheeses, meats, and vegetables allows for endless customization.\n",
      "\n",
      "If you have a specific dish or recipe in mind, let me know, and I can help you refine it further!\n"
     ]
    }
   ],
   "source": [
    "# Step 1: Create your prompts\n",
    "\n",
    "system_prompt = \"something here\"\n",
    "user_prompt = \"\"\"\n",
    "    Try to make sense of the input message lists\n",
    "\"\"\"\n",
    "\n",
    "# Step 2: Make the messages list\n",
    "\n",
    "messages_list = [\n",
    "    \"all-purpose flour\", \"bread flour\", \"00 flour\", \"whole wheat flour\",\n",
    "    \"active dry yeast\", \"instant yeast\", \"fresh yeast\", \"warm water\", \"salt\", \"sugar\", \"olive oil\",\n",
    "    \"canned crushed tomatoes\", \"canned whole peeled tomatoes\", \"tomato paste\", \"fresh tomatoes\",\n",
    "    \"garlic\", \"onion\", \"oregano\", \"basil\", \"pepper\", \"red pepper flakes\",\n",
    "    \"pesto\", \"white sauce\", \"bbq sauce\", \"alfredo sauce\",\n",
    "    \"mozzarella\", \"provolone\", \"parmesan\", \"ricotta\", \"fontina\", \"gorgonzola\", \"cheddar\",\n",
    "    \"pepperoni\", \"italian sausage\", \"chorizo\", \"ham\", \"bacon\", \"ground beef\", \"chicken\", \"meatballs\",\n",
    "    \"mushrooms\", \"onions\", \"bell peppers\", \"olives\", \"tomatoes\", \"spinach\", \"artichoke hearts\",\n",
    "    \"jalapeños\", \"pineapple\", \"broccoli\", \"zucchini\", \"eggplant\",\n",
    "    \"fresh basil\", \"dried oregano\", \"fresh oregano\", \"minced garlic\", \"roasted garlic\", \"rosemary\", \"thyme\",\n",
    "    \"balsamic glaze\"\n",
    "]\n",
    "\n",
    "# Step 3: Call OpenAI\n",
    "\n",
    "response = client.chat.completions.create(\n",
    "    model=\"deepseek/deepseek-chat\",\n",
    "    messages=[\n",
    "        {\"role\": \"system\", \"content\": system_prompt},\n",
    "        {\"role\": \"user\", \"content\": user_prompt + \"\\n\".join(messages_list)},\n",
    "        {\"role\": \"user\", \"content\": \"tell me more about this\"}\n",
    "    ]\n",
    ")\n",
    "\n",
    "# Step 4: print the result\n",
    "\n",
    "print(response.choices[0].message.content)"
   ]
  },
  {
   "cell_type": "code",
   "execution_count": 31,
   "id": "57b55bf4",
   "metadata": {},
   "outputs": [
    {
     "data": {
      "text/plain": [
       "ChatCompletion(id='5ffe0a0e-8ce0-4312-b8b5-143ca0380640', choices=[Choice(finish_reason='stop', index=0, logprobs=None, message=ChatCompletionMessage(content=\"This list appears to be a comprehensive collection of ingredients commonly used in cooking, particularly in Italian and Mediterranean cuisines, with a focus on dishes like pizza, pasta, and sauces. Here's a breakdown of the categories and their significance:\\n\\n### **Flours**\\n- **All-purpose flour**: A versatile flour used for a wide range of baked goods.\\n- **Bread flour**: Higher protein content, ideal for bread-making due to its gluten strength.\\n- **00 flour**: A finely milled Italian flour, perfect for pizza dough and pasta.\\n- **Whole wheat flour**: Adds a nutty flavor and more fiber to baked goods.\\n\\n### **Yeast**\\n- **Active dry yeast**: Needs to be activated in warm water before use.\\n- **Instant yeast**: Can be mixed directly into dry ingredients.\\n- **Fresh yeast**: Also known as cake yeast, often used in professional baking.\\n\\n### **Liquids**\\n- **Warm water**: Used to activate yeast and hydrate dough.\\n- **Olive oil**: Adds flavor and moisture to dough and sauces.\\n\\n### **Seasonings**\\n- **Salt**: Enhances flavor and controls yeast activity in dough.\\n- **Sugar**: Feeds yeast and adds sweetness to sauces.\\n- **Garlic, onion, oregano, basil, pepper, red pepper flakes**: Common herbs and spices for seasoning.\\n- **Balsamic glaze**: A sweet and tangy reduction used as a topping or drizzle.\\n\\n### **Tomato-based Ingredients**\\n- **Canned crushed tomatoes, canned whole peeled tomatoes, tomato paste, fresh tomatoes**: Base ingredients for sauces like marinara or pizza sauce.\\n- **Pesto**: A sauce made from basil, garlic, pine nuts, Parmesan, and olive oil.\\n\\n### **Sauces**\\n- **White sauce**: A creamy base made with butter, flour, and milk.\\n- **BBQ sauce**: A tangy, smoky sauce often used as a topping or glaze.\\n- **Alfredo sauce**: A rich, creamy sauce made with butter, cream, and Parmesan.\\n\\n### **Cheeses**\\n- **Mozzarella, provolone, Parmesan, ricotta, fontina, gorgonzola, cheddar**: Various cheeses used for melting, flavor, and texture in dishes like pizza, pasta, and casseroles.\\n\\n### **Meats**\\n- **Pepperoni, Italian sausage, chorizo, ham, bacon, ground beef, chicken, meatballs**: Common protein toppings for pizza, pasta, and sandwiches.\\n\\n### **Vegetables**\\n- **Mushrooms, onions, bell peppers, olives, tomatoes, spinach, artichoke hearts, jalapeños, pineapple, broccoli, zucchini, eggplant**: Popular vegetable toppings and ingredients for a variety of dishes.\\n\\n### **Fresh and Dried Herbs**\\n- **Fresh basil, dried oregano, fresh oregano, minced garlic, roasted garlic, rosemary, thyme**: Used to add depth and aroma to dishes.\\n\\n### **Other Ingredients**\\n- **Pineapple**: A controversial but popular pizza topping (e.g., Hawaiian pizza).\\n- **Balsamic glaze**: A sweet and tangy reduction used as a topping or drizzle.\\n\\n### **Potential Dishes**\\nThis list suggests a focus on dishes like:\\n- **Pizza**: With various doughs, sauces, cheeses, and toppings.\\n- **Pasta**: With tomato-based sauces, pesto, Alfredo, or meat-based sauces.\\n- **Sandwiches**: Using meats, cheeses, and vegetables.\\n- **Casseroles or baked dishes**: Combining meats, cheeses, and vegetables.\\n\\nIf you're planning a recipe or menu, this list provides a wide range of options for creating flavorful and diverse dishes! Let me know if you'd like help with specific recipes or combinations.\", refusal=None, role='assistant', audio=None, function_call=None, tool_calls=None))], created=1737041540, model='deepseek-chat', object='chat.completion', service_tier=None, system_fingerprint='fp_3a5770e1b4', usage=CompletionUsage(completion_tokens=760, prompt_tokens=231, total_tokens=991, completion_tokens_details=None, prompt_tokens_details=None, prompt_cache_hit_tokens=192, prompt_cache_miss_tokens=39))"
      ]
     },
     "execution_count": 31,
     "metadata": {},
     "output_type": "execute_result"
    }
   ],
   "source": [
    "response"
   ]
  },
  {
   "cell_type": "markdown",
   "id": "36ed9f14-b349-40e9-a42c-b367e77f8bda",
   "metadata": {},
   "source": [
    "## An extra exercise for those who enjoy web scraping\n",
    "\n",
    "You may notice that if you try `display_summary(\"https://openai.com\")` - it doesn't work! That's because OpenAI has a fancy website that uses Javascript. There are many ways around this that some of you might be familiar with. For example, Selenium is a hugely popular framework that runs a browser behind the scenes, renders the page, and allows you to query it. If you have experience with Selenium, Playwright or similar, then feel free to improve the Website class to use them. In the community-contributions folder, you'll find an example Selenium solution from a student (thank you!)"
   ]
  },
  {
   "cell_type": "markdown",
   "id": "eeab24dc-5f90-4570-b542-b0585aca3eb6",
   "metadata": {},
   "source": [
    "# Sharing your code\n",
    "\n",
    "I'd love it if you share your code afterwards so I can share it with others! You'll notice that some students have already made changes (including a Selenium implementation) which you will find in the community-contributions folder. If you'd like add your changes to that folder, submit a Pull Request with your new versions in that folder and I'll merge your changes.\n",
    "\n",
    "If you're not an expert with git (and I am not!) then GPT has given some nice instructions on how to submit a Pull Request. It's a bit of an involved process, but once you've done it once it's pretty clear. As a pro-tip: it's best if you clear the outputs of your Jupyter notebooks (Edit >> Clean outputs of all cells, and then Save) for clean notebooks.\n",
    "\n",
    "Here are good instructions courtesy of an AI friend:  \n",
    "https://chatgpt.com/share/677a9cb5-c64c-8012-99e0-e06e88afd293"
   ]
  }
 ],
 "metadata": {
  "kernelspec": {
   "display_name": ".venv",
   "language": "python",
   "name": "python3"
  },
  "language_info": {
   "codemirror_mode": {
    "name": "ipython",
    "version": 3
   },
   "file_extension": ".py",
   "mimetype": "text/x-python",
   "name": "python",
   "nbconvert_exporter": "python",
   "pygments_lexer": "ipython3",
   "version": "3.11.5"
  }
 },
 "nbformat": 4,
 "nbformat_minor": 5
}
